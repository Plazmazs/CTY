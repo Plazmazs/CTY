{
 "cells": [
  {
   "cell_type": "code",
   "execution_count": null,
   "metadata": {},
   "outputs": [],
   "source": [
    "brawlers = ['emz', 'leon', 'angelo']\n",
    "print(brawlers)\n",
    "print(len(brawlers))\n",
    "print(brawlers[-1])\n",
    "#list1 = brawlers + \"banana\"\n",
    "list2 = brawlers + [\"banana\"]\n",
    "#print(list1)\n",
    "print(list2)\n",
    "\n",
    "numbers1= list(range(1,100))\n",
    "numbers2 = list(range(1,100,5))\n",
    "Max = max(numbers1)\n",
    "\n",
    "A=numbers2[0:5]\n",
    "B=numbers2[0:50:3]\n",
    "C=numbers2[30:]\n",
    "D=numbers2[::2]\n",
    "E=numbers2[::-1]\n",
    "F=numbers2[-3]\n",
    "G=numbers2[-3:]\n",
    "\n",
    "\n"
   ]
  },
  {
   "cell_type": "code",
   "execution_count": null,
   "metadata": {},
   "outputs": [],
   "source": [
    "list1= [1,2,3,4,5,6,7,8,9]\n",
    "x=list1[-1]\n",
    "y=list1[0]\n",
    "list1[0]=x\n",
    "\n",
    "list1[-1]=y\n",
    "print(list1)\n"
   ]
  },
  {
   "cell_type": "code",
   "execution_count": 1,
   "metadata": {},
   "outputs": [
    {
     "name": "stdout",
     "output_type": "stream",
     "text": [
      "[[1, 2, 3, 4, 5, 6, 4, 5, 6, 4, 5, 6, 7, 8, 9]]\n"
     ]
    }
   ],
   "source": [
    "list1= [1,2,3,4,5,6,7,8,9]\n",
    "amount = int(input(''))\n",
    "last=list1[-amount:]\n",
    "first=list1[:amount]\n",
    "middle=list1[amount:-amount]\n",
    "newlist= [last+ middle+first ]\n",
    "print(newlist)\n"
   ]
  },
  {
   "cell_type": "code",
   "execution_count": null,
   "metadata": {},
   "outputs": [],
   "source": [
    "list1= [1,2,3,4,5,6,7,8,9]\n",
    "x=list1[::-1]\n",
    "print(x)"
   ]
  },
  {
   "cell_type": "code",
   "execution_count": 1,
   "metadata": {},
   "outputs": [
    {
     "name": "stdout",
     "output_type": "stream",
     "text": [
      "9 8\n"
     ]
    }
   ],
   "source": [
    "list1= [1,2,3,4,5,6,7,8,9]\n",
    "max1=max(list1)\n",
    "list1.remove(max1)\n",
    "max2=max(list1)\n",
    "print(max1,max2)"
   ]
  }
 ],
 "metadata": {
  "kernelspec": {
   "display_name": "Python 3",
   "language": "python",
   "name": "python3"
  },
  "language_info": {
   "codemirror_mode": {
    "name": "ipython",
    "version": 3
   },
   "file_extension": ".py",
   "mimetype": "text/x-python",
   "name": "python",
   "nbconvert_exporter": "python",
   "pygments_lexer": "ipython3",
   "version": "3.12.4"
  }
 },
 "nbformat": 4,
 "nbformat_minor": 2
}
