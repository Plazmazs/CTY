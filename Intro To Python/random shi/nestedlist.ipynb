{
 "cells": [
  {
   "cell_type": "code",
   "execution_count": 1,
   "metadata": {},
   "outputs": [
    {
     "data": {
      "text/plain": [
       "21"
      ]
     },
     "execution_count": 1,
     "metadata": {},
     "output_type": "execute_result"
    }
   ],
   "source": [
    "nestedlist= [\n",
    "    [\n",
    "        [\n",
    "            [\n",
    "                1,2,3\n",
    "            ],\n",
    "            [\n",
    "                4,5,6\n",
    "            ]\n",
    "        ],\n",
    "        [\n",
    "            [\n",
    "                7,8,9\n",
    "            ],\n",
    "            [\n",
    "                10,11,12\n",
    "            ]\n",
    "        ]\n",
    "        \n",
    "    ],\n",
    "    [\n",
    "        [\n",
    "            [\n",
    "                13,14,15\n",
    "            ],\n",
    "            [\n",
    "                16,17,18\n",
    "            ]\n",
    "        ],\n",
    "        [\n",
    "            [\n",
    "                19,20,21\n",
    "            ],\n",
    "            [\n",
    "                22,23,24\n",
    "            ]\n",
    "        ]\n",
    "        \n",
    "    ]\n",
    "]\n",
    "nestedlist[1][1][0][2]"
   ]
  }
 ],
 "metadata": {
  "kernelspec": {
   "display_name": "Python 3",
   "language": "python",
   "name": "python3"
  },
  "language_info": {
   "codemirror_mode": {
    "name": "ipython",
    "version": 3
   },
   "file_extension": ".py",
   "mimetype": "text/x-python",
   "name": "python",
   "nbconvert_exporter": "python",
   "pygments_lexer": "ipython3",
   "version": "3.12.4"
  }
 },
 "nbformat": 4,
 "nbformat_minor": 2
}
